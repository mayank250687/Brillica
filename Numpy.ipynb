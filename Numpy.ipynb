{
 "cells": [
  {
   "cell_type": "code",
   "execution_count": 1,
   "metadata": {},
   "outputs": [
    {
     "name": "stdout",
     "output_type": "stream",
     "text": [
      "[[21 24 27]\n",
      " [48 51 54]\n",
      " [75 78 81]]\n"
     ]
    }
   ],
   "source": [
    "import numpy as np\n",
    "arr = np.arange(1,82).reshape(9,9)\n",
    "arr\n",
    "\n",
    "m=[]\n",
    "\n",
    "for i in range(0,9,3):\n",
    "    for j in range(0,9,3):\n",
    "        t=np.vstack((arr[i][j:j+3] , arr[i+1][j:j+3] , arr[i+2][j:j+3]))\n",
    "        m.append(t.max())\n",
    "        #print(t)\n",
    "        #print(\"Max \\n: \",t.max())\n",
    "        #print('-'*50)\n",
    "    #print('')\n",
    "print(np.array(m).reshape(3,3)) "
   ]
  },
  {
   "cell_type": "code",
   "execution_count": null,
   "metadata": {},
   "outputs": [],
   "source": []
  }
 ],
 "metadata": {
  "kernelspec": {
   "display_name": "Python 3",
   "language": "python",
   "name": "python3"
  },
  "language_info": {
   "codemirror_mode": {
    "name": "ipython",
    "version": 3
   },
   "file_extension": ".py",
   "mimetype": "text/x-python",
   "name": "python",
   "nbconvert_exporter": "python",
   "pygments_lexer": "ipython3",
   "version": "3.8.3"
  }
 },
 "nbformat": 4,
 "nbformat_minor": 4
}
